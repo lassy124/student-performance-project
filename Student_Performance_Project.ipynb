import streamlit as st
import pandas as pd
import matplotlib.pyplot as plt
import seaborn as sns
from sklearn.model_selection import train_test_split
from sklearn.linear_model import LinearRegression
from sklearn.metrics import r2_score, mean_squared_error

st.title("🎓 Student Performance Prediction App")

# Upload CSV
uploaded_file = st.file_uploader("Upload Student Data CSV", type=["csv"])
if uploaded_file:
    df = pd.read_csv(uploaded_file)
    st.write("📊 Dataset Preview:", df.head())

    # Train simple model
    if st.button("Train Model"):
        X = df.drop("math score", axis=1, errors="ignore")  # Example
        y = df["math score"]

        X_train, X_test, y_train, y_test = train_test_split(X, y, test_size=0.2)
        model = LinearRegression()
        model.fit(X_train, y_train)

        preds = model.predict(X_test)

        st.write("✅ R2 Score:", r2_score(y_test, preds))
        st.write("✅ RMSE:", mean_squared_error(y_test, preds, squared=False))
